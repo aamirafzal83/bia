{
 "cells": [
  {
   "cell_type": "code",
   "execution_count": 4,
   "id": "4b53c3d0-f8b3-42d6-9c26-c9d78afc54eb",
   "metadata": {},
   "outputs": [],
   "source": [
    "val = 3"
   ]
  },
  {
   "cell_type": "code",
   "execution_count": 7,
   "id": "08fc9565-edb2-4a3c-abc3-c755278c024d",
   "metadata": {},
   "outputs": [
    {
     "name": "stdout",
     "output_type": "stream",
     "text": [
      "Odd and Positive\n"
     ]
    }
   ],
   "source": [
    "if val %2==0 and val>0:\n",
    "        print(\"Even and Positive\")\n",
    "elif val %2==0 and val<0:\n",
    "        print(\"Even and Negative\")\n",
    "elif val %2 !=0 and val>0:\n",
    "        print(\"Odd and Positive\")\n",
    "elif val %2 !=0 and val<0:\n",
    "        print(\"Odd and Negative\")"
   ]
  },
  {
   "cell_type": "code",
   "execution_count": 8,
   "id": "9cb76f66-8ba9-4155-a384-dc150e89aead",
   "metadata": {},
   "outputs": [],
   "source": [
    "val = 4"
   ]
  },
  {
   "cell_type": "code",
   "execution_count": 9,
   "id": "f967a3ce-deb9-490d-b791-d9ebc9a6e521",
   "metadata": {},
   "outputs": [
    {
     "name": "stdout",
     "output_type": "stream",
     "text": [
      "Even and Positive\n"
     ]
    }
   ],
   "source": [
    "if val %2==0 and val>0:\n",
    "        print(\"Even and Positive\")\n",
    "elif val %2==0 and val<0:\n",
    "        print(\"Even and Negative\")\n",
    "elif val %2 !=0 and val>0:\n",
    "        print(\"Odd and Positive\")\n",
    "elif val %2 !=0 and val<0:\n",
    "        print(\"Odd and Negative\")"
   ]
  },
  {
   "cell_type": "code",
   "execution_count": 10,
   "id": "571a85fd-5e8b-465f-aa80-22b1cb718e80",
   "metadata": {},
   "outputs": [],
   "source": [
    "val = 0"
   ]
  },
  {
   "cell_type": "code",
   "execution_count": 13,
   "id": "bab68a78-a797-43ab-9656-2f3242a659f9",
   "metadata": {},
   "outputs": [],
   "source": [
    "def num_checker(val):\n",
    "    if val %2==0 and val>0:\n",
    "        print(\"Even and Positive\")\n",
    "    elif val %2==0 and val<0:\n",
    "        print(\"Even and Negative\")\n",
    "    elif val %2 !=0 and val>0:\n",
    "        print(\"Odd and Positive\")\n",
    "    elif val %2 !=0 and val<0:\n",
    "        print(\"Odd and Negative\")"
   ]
  },
  {
   "cell_type": "code",
   "execution_count": 14,
   "id": "cb1f0ba7-9620-4ea3-b5fe-7ef292363c59",
   "metadata": {},
   "outputs": [
    {
     "name": "stdout",
     "output_type": "stream",
     "text": [
      "Odd and Positive\n"
     ]
    }
   ],
   "source": [
    "num_checker(3)"
   ]
  },
  {
   "cell_type": "code",
   "execution_count": 11,
   "id": "728221ce-d9e8-4f1e-b1f7-fb7fc5872b3a",
   "metadata": {},
   "outputs": [
    {
     "name": "stdout",
     "output_type": "stream",
     "text": [
      "0\n",
      "2\n",
      "4\n"
     ]
    }
   ],
   "source": [
    "i = 0\n",
    "while(i<5):\n",
    "    print(i)\n",
    "    i = i + 2"
   ]
  },
  {
   "cell_type": "code",
   "execution_count": 15,
   "id": "2db695df-ab71-470a-8ab9-be42081bfef3",
   "metadata": {},
   "outputs": [
    {
     "name": "stdout",
     "output_type": "stream",
     "text": [
      "1\n",
      "2\n",
      "3\n",
      "4\n"
     ]
    }
   ],
   "source": [
    "i = 1\n",
    "while(i<5):\n",
    "    print(i)\n",
    "    i = i + 1"
   ]
  },
  {
   "cell_type": "code",
   "execution_count": 16,
   "id": "0c343857-38e9-491d-8e58-89cdd7837654",
   "metadata": {},
   "outputs": [
    {
     "data": {
      "text/plain": [
       "builtin_function_or_method"
      ]
     },
     "execution_count": 16,
     "metadata": {},
     "output_type": "execute_result"
    }
   ],
   "source": [
    "type(print)"
   ]
  },
  {
   "cell_type": "markdown",
   "id": "d29d5a28-5fa4-475d-8ea8-dc6fde747593",
   "metadata": {},
   "source": [
    "a=1\n",
    "a==1"
   ]
  },
  {
   "cell_type": "code",
   "execution_count": 22,
   "id": "f135978f-e940-4d58-88d3-e55ee5153e8b",
   "metadata": {},
   "outputs": [
    {
     "name": "stdout",
     "output_type": "stream",
     "text": [
      "1\n",
      "2\n",
      "3\n",
      "4\n"
     ]
    }
   ],
   "source": [
    "i = 1\n",
    "while i<5:\n",
    "    print(i)\n",
    "    i = i + 1"
   ]
  },
  {
   "cell_type": "markdown",
   "id": "13412750-7b1a-4caa-b315-f9d01ff18f47",
   "metadata": {},
   "source": [
    "## Break"
   ]
  },
  {
   "cell_type": "code",
   "execution_count": 3,
   "id": "bc6065f8-ba3d-42b7-8dcc-9a0e7df9cbc5",
   "metadata": {},
   "outputs": [
    {
     "name": "stdout",
     "output_type": "stream",
     "text": [
      "0\n",
      "1\n",
      "2\n"
     ]
    }
   ],
   "source": [
    "for i in range(5):\n",
    "    if i ==3:\n",
    "        break\n",
    "    print(i)"
   ]
  },
  {
   "cell_type": "markdown",
   "id": "593136dd-09d1-4332-960b-dd60e098649b",
   "metadata": {},
   "source": [
    "## Reverse a given string"
   ]
  },
  {
   "cell_type": "code",
   "execution_count": 16,
   "id": "c8eabb9d-8c51-4c9f-b21a-08f8b417772d",
   "metadata": {},
   "outputs": [],
   "source": [
    "def reverse_str(str_val):\n",
    "    reverse_val = \"\"\n",
    "    for i in str_val:\n",
    "        reverse_val = i + reverse_val\n",
    "    return reverse_val \n",
    "    \n",
    "    \n",
    "\n"
   ]
  },
  {
   "cell_type": "code",
   "execution_count": 17,
   "id": "02593ec2-043f-4e89-9b5e-719ae9cb5e39",
   "metadata": {},
   "outputs": [
    {
     "data": {
      "text/plain": [
       "'rimaa'"
      ]
     },
     "execution_count": 17,
     "metadata": {},
     "output_type": "execute_result"
    }
   ],
   "source": [
    "reverse_str(\"aamir\")\n"
   ]
  },
  {
   "cell_type": "code",
   "execution_count": null,
   "id": "61ca44f0-017f-416a-8509-08ac014b71c8",
   "metadata": {},
   "outputs": [],
   "source": []
  },
  {
   "cell_type": "code",
   "execution_count": null,
   "id": "8d8f955e-c0fe-4632-9a66-502744523ca3",
   "metadata": {},
   "outputs": [],
   "source": []
  },
  {
   "cell_type": "code",
   "execution_count": 19,
   "id": "bfc849de-248b-4b0b-88a3-bcedf33f12f9",
   "metadata": {},
   "outputs": [],
   "source": [
    "def num_check(val):\n",
    "    if val%2==0 and val>0:\n",
    "        print (\"Even\")\n",
    "    elif val%2!=0 and val>0:\n",
    "        print (\"Odd.\")"
   ]
  },
  {
   "cell_type": "code",
   "execution_count": 20,
   "id": "6cadfd45-0d5b-42e3-bf14-a0fe901c9b87",
   "metadata": {},
   "outputs": [
    {
     "name": "stdout",
     "output_type": "stream",
     "text": [
      "Even\n"
     ]
    }
   ],
   "source": [
    "num_check(4)"
   ]
  },
  {
   "cell_type": "code",
   "execution_count": 21,
   "id": "1cc659ea-bf53-470c-9d7d-614f3e1824ec",
   "metadata": {},
   "outputs": [
    {
     "name": "stdout",
     "output_type": "stream",
     "text": [
      "Odd.\n"
     ]
    }
   ],
   "source": [
    "num_check(9)"
   ]
  },
  {
   "cell_type": "code",
   "execution_count": 27,
   "id": "8799c04a-b9d9-412f-b48b-85564b9fdd99",
   "metadata": {},
   "outputs": [],
   "source": [
    "a = \"aamir\"\n",
    "b = \" hamza\"\n"
   ]
  },
  {
   "cell_type": "code",
   "execution_count": 29,
   "id": "23525f51-205f-4d69-ba01-4be062a9e40c",
   "metadata": {},
   "outputs": [],
   "source": [
    "statement = \"My name is {}{}\".format(a,b)"
   ]
  },
  {
   "cell_type": "code",
   "execution_count": 30,
   "id": "a266d92d-d200-4291-a1c1-32337de1f428",
   "metadata": {},
   "outputs": [
    {
     "data": {
      "text/plain": [
       "'My name is aamir hamza'"
      ]
     },
     "execution_count": 30,
     "metadata": {},
     "output_type": "execute_result"
    }
   ],
   "source": [
    "statement"
   ]
  },
  {
   "cell_type": "code",
   "execution_count": 37,
   "id": "2d32e6bb-3dc4-4f20-9bee-8fbd2c634f5c",
   "metadata": {},
   "outputs": [],
   "source": [
    "statement = f'My name is {a}{b}'"
   ]
  },
  {
   "cell_type": "code",
   "execution_count": 38,
   "id": "d7a740cf-33a8-41a2-b94b-df4eff48d1a4",
   "metadata": {},
   "outputs": [
    {
     "data": {
      "text/plain": [
       "'My name is aamir hamza'"
      ]
     },
     "execution_count": 38,
     "metadata": {},
     "output_type": "execute_result"
    }
   ],
   "source": [
    "statement"
   ]
  },
  {
   "cell_type": "code",
   "execution_count": 43,
   "id": "fec954bb-916e-441b-90b9-173f84ce7d3e",
   "metadata": {},
   "outputs": [],
   "source": [
    "statement =f'My name is {a}{b}'"
   ]
  },
  {
   "cell_type": "code",
   "execution_count": 44,
   "id": "38b43977-5333-4a0f-b299-d55fe03b1382",
   "metadata": {},
   "outputs": [
    {
     "data": {
      "text/plain": [
       "'My name is aamir hamza'"
      ]
     },
     "execution_count": 44,
     "metadata": {},
     "output_type": "execute_result"
    }
   ],
   "source": [
    "statement"
   ]
  },
  {
   "cell_type": "code",
   "execution_count": 27,
   "id": "d474e7fc-2083-45dc-834a-1125857f3f5e",
   "metadata": {},
   "outputs": [],
   "source": [
    "def custom_sum(*args):\n",
    "    x= sum(args)\n",
    "    avg = sum(args)/len(args)\n",
    "    return avg       "
   ]
  },
  {
   "cell_type": "code",
   "execution_count": 28,
   "id": "47c31397-c242-45d4-a050-e74ede5e3202",
   "metadata": {},
   "outputs": [
    {
     "data": {
      "text/plain": [
       "43.25"
      ]
     },
     "execution_count": 28,
     "metadata": {},
     "output_type": "execute_result"
    }
   ],
   "source": [
    "custom_sum(1,3,3,6,213,44,33, 43)"
   ]
  },
  {
   "cell_type": "code",
   "execution_count": 75,
   "id": "b03c3db9-35a4-4be5-ac63-878b88b0b7ec",
   "metadata": {},
   "outputs": [
    {
     "data": {
      "text/plain": [
       "96"
      ]
     },
     "execution_count": 75,
     "metadata": {},
     "output_type": "execute_result"
    }
   ],
   "source": [
    "custom_sum(1,31,3,61)"
   ]
  },
  {
   "cell_type": "code",
   "execution_count": 4,
   "id": "bfbe8196-c3de-467b-ac99-fd1830184ba2",
   "metadata": {},
   "outputs": [],
   "source": [
    "def custom_sum(*args):\n",
    "    for i in args:\n",
    "        x = sum(args) \n",
    "         \n",
    "    return x"
   ]
  },
  {
   "cell_type": "code",
   "execution_count": 5,
   "id": "ad2dfe78-de4b-43fe-af59-b1f6015c5930",
   "metadata": {},
   "outputs": [
    {
     "data": {
      "text/plain": [
       "14"
      ]
     },
     "execution_count": 5,
     "metadata": {},
     "output_type": "execute_result"
    }
   ],
   "source": [
    "custom_sum(5,3,6)"
   ]
  },
  {
   "cell_type": "code",
   "execution_count": 1,
   "id": "6da948b3-b390-49ba-9178-f75d109b299c",
   "metadata": {},
   "outputs": [],
   "source": [
    "def custom_name(*args):\n",
    "    res = 0\n",
    "    for i in args:\n",
    "        res = res + 1\n",
    "        return (res)  "
   ]
  },
  {
   "cell_type": "code",
   "execution_count": 2,
   "id": "17a0607f-c61b-4d00-97fd-4b9dfe0650a8",
   "metadata": {},
   "outputs": [
    {
     "data": {
      "text/plain": [
       "1"
      ]
     },
     "execution_count": 2,
     "metadata": {},
     "output_type": "execute_result"
    }
   ],
   "source": [
    "custom_name (2,3,4,5)"
   ]
  },
  {
   "cell_type": "code",
   "execution_count": 13,
   "id": "a8498134-b545-40ed-8142-bc4c0cef223f",
   "metadata": {},
   "outputs": [],
   "source": [
    "def reverse_str(str_val):\n",
    "    reverse_string =\"\"\n",
    "    for i in str_val:\n",
    "        reverse_string =    i + reverse_string\n",
    "    return reverse_string  "
   ]
  },
  {
   "cell_type": "code",
   "execution_count": 14,
   "id": "3e1954df-6213-4cdd-970c-f3608ad38003",
   "metadata": {},
   "outputs": [
    {
     "data": {
      "text/plain": [
       "'ssaarimaa'"
      ]
     },
     "execution_count": 14,
     "metadata": {},
     "output_type": "execute_result"
    }
   ],
   "source": [
    "reverse_str(\"aamiraass\")"
   ]
  },
  {
   "cell_type": "code",
   "execution_count": 1,
   "id": "ab317c40-b0ad-406c-a764-62391d62c487",
   "metadata": {},
   "outputs": [],
   "source": [
    "def reverse_str(str_val):\n",
    "    reverse_string = \"\"\n",
    "    for i in (str_val):\n",
    "        reverse_string = i + reverse_string\n",
    "    print (reverse_string)\n",
    "        "
   ]
  },
  {
   "cell_type": "code",
   "execution_count": 2,
   "id": "7705709e-cebc-424c-bbeb-ed465fb2ff7f",
   "metadata": {},
   "outputs": [
    {
     "name": "stdout",
     "output_type": "stream",
     "text": [
      "azmaH\n"
     ]
    }
   ],
   "source": [
    "reverse_str(\"Hamza\")"
   ]
  },
  {
   "cell_type": "code",
   "execution_count": 3,
   "id": "efeac67b-1d8a-4d63-a329-3b0ed0f9b7c9",
   "metadata": {},
   "outputs": [],
   "source": [
    "def reverse_str(str_val):\n",
    "    reverse_string = \"\"\n",
    "    for i in (str_val):\n",
    "        reverse_string = i + reverse_string\n",
    "    print (reverse_string)"
   ]
  },
  {
   "cell_type": "code",
   "execution_count": 5,
   "id": "103ede63-a022-4879-941f-41288e43d058",
   "metadata": {},
   "outputs": [
    {
     "name": "stdout",
     "output_type": "stream",
     "text": [
      "rimaA\n"
     ]
    }
   ],
   "source": [
    "reverse_str(\"Aamir\")"
   ]
  },
  {
   "cell_type": "code",
   "execution_count": null,
   "id": "4b2745fe-862a-40eb-b821-472aeb2463b2",
   "metadata": {},
   "outputs": [],
   "source": []
  }
 ],
 "metadata": {
  "kernelspec": {
   "display_name": "Python 3 (ipykernel)",
   "language": "python",
   "name": "python3"
  },
  "language_info": {
   "codemirror_mode": {
    "name": "ipython",
    "version": 3
   },
   "file_extension": ".py",
   "mimetype": "text/x-python",
   "name": "python",
   "nbconvert_exporter": "python",
   "pygments_lexer": "ipython3",
   "version": "3.10.14"
  }
 },
 "nbformat": 4,
 "nbformat_minor": 5
}
